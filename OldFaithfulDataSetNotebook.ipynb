{
 "cells": [
  {
   "cell_type": "markdown",
   "metadata": {},
   "source": [
    "# Old Faithful Data Set\n",
    "\n",
    "## Read in data from csv"
   ]
  },
  {
   "cell_type": "code",
   "execution_count": null,
   "metadata": {
    "collapsed": false
   },
   "outputs": [],
   "source": [
    "%matplotlib inline  \n",
    "# numpy efficiently deals with numerical multi-dimensional arrays.\n",
    "import numpy as np\n",
    "# matplotlib is a plotting library, and pyplot is its easy-to-use module.\n",
    "import matplotlib.pyplot as plt\n",
    "\n",
    "# This just sets the default plot size to be bigger.\n",
    "plt.rcParams['figure.figsize'] = (16.0, 8.0)\n",
    "\n",
    "# Adapted from https://stackoverflow.com/questions/25614749/how-to-import-csv-file-as-numpy-array-in-python\n",
    "errupt, wait = np.loadtxt('data/faithful.csv', delimiter=',', usecols=(0,1), unpack=True, dtype=float)\n",
    "\n",
    "print(\"Erruptions Data %s:\" % errupt)\n",
    "print(\"Waiting Data %s:\" % wait)\n"
   ]
  },
  {
   "cell_type": "markdown",
   "metadata": {},
   "source": [
    "## Investigate The Data"
   ]
  },
  {
   "cell_type": "code",
   "execution_count": null,
   "metadata": {
    "collapsed": false
   },
   "outputs": [],
   "source": [
    "plt.plot(errupt, wait, 'k.')\n",
    "plt.xlabel('Erruption Duration (min.)')\n",
    "plt.ylabel('Waiting time (min.)')\n",
    "plt.show()"
   ]
  },
  {
   "cell_type": "markdown",
   "metadata": {
    "collapsed": true
   },
   "source": [
    "## Fit a Straight Line"
   ]
  },
  {
   "cell_type": "code",
   "execution_count": null,
   "metadata": {
    "collapsed": false
   },
   "outputs": [],
   "source": [
    "m,c = np.polyfit(errupt, wait, 1)\n",
    "print(\"Best fit is m = %f and c = %f\" % (m, c))\n",
    "\n",
    "# Plot the best fit line.\n",
    "plt.plot(errupt, wait, 'k.', label='Original data')\n",
    "plt.plot(errupt, m * errupt+ c, 'b-', label='Best fit: $%0.1f x + %0.1f$' % (m,c))\n",
    "plt.legend()\n",
    "plt.show()"
   ]
  },
  {
   "cell_type": "markdown",
   "metadata": {},
   "source": [
    "# Calculate Gradient Decesnt"
   ]
  },
  {
   "cell_type": "code",
   "execution_count": null,
   "metadata": {
    "collapsed": false
   },
   "outputs": [],
   "source": [
    "def grad_m(x, y, m, c):\n",
    "  return -2.0 * np.sum(x * (y - m * x - c))\n",
    "\n",
    "def grad_c(x, y, m , c):\n",
    "  return -2.0 * np.sum(y - m * x - c)\n",
    "\n",
    "eta = 0.0001\n",
    "m, c = 1.0, 1.0\n",
    "change = True\n",
    "\n",
    "while change:\n",
    "  mnew = m - eta * grad_m(errupt, wait, m, c)\n",
    "  cnew = c - eta * grad_c(errupt, wait, m, c)\n",
    "  if m == mnew and c == cnew:\n",
    "    change = False\n",
    "  else:\n",
    "    m, c = mnew, cnew\n",
    "    print(\"m: %20.16f  c: %20.16f\" % (m, c))"
   ]
  },
  {
   "cell_type": "code",
   "execution_count": null,
   "metadata": {
    "collapsed": true
   },
   "outputs": [],
   "source": []
  }
 ],
 "metadata": {
  "anaconda-cloud": {},
  "kernelspec": {
   "display_name": "Python [Root]",
   "language": "python",
   "name": "Python [Root]"
  },
  "language_info": {
   "codemirror_mode": {
    "name": "ipython",
    "version": 3
   },
   "file_extension": ".py",
   "mimetype": "text/x-python",
   "name": "python",
   "nbconvert_exporter": "python",
   "pygments_lexer": "ipython3",
   "version": "3.5.2"
  }
 },
 "nbformat": 4,
 "nbformat_minor": 0
}
